{
 "cells": [
  {
   "cell_type": "code",
   "execution_count": 12,
   "id": "53c870fd",
   "metadata": {},
   "outputs": [],
   "source": [
    "import torch\n",
    "from pathlib import Path\n",
    "from utils import download_qwen3_small, Qwen3Tokenizer\n",
    "from qwen3 import Qwen3Model, QWEN_CONFIG_06_B\n",
    "import torchinfo"
   ]
  },
  {
   "cell_type": "code",
   "execution_count": 13,
   "id": "2fb0a232",
   "metadata": {},
   "outputs": [
    {
     "name": "stdout",
     "output_type": "stream",
     "text": [
      "Using device: mps\n"
     ]
    }
   ],
   "source": [
    "def set_device() -> torch.device:\n",
    "    if torch.cuda.is_available():\n",
    "        return torch.device(device=\"cuda\")\n",
    "    elif torch.backends.mps.is_available():\n",
    "        return torch.device(device=\"mps\")\n",
    "    else:\n",
    "        return torch.device(device=\"cpu\")\n",
    "\n",
    "\n",
    "device = set_device()\n",
    "print(f\"Using device: {device}\")"
   ]
  },
  {
   "cell_type": "markdown",
   "id": "cabd3382",
   "metadata": {},
   "source": [
    "# 2.4 Preparing input texts for LLMs"
   ]
  },
  {
   "cell_type": "code",
   "execution_count": 14,
   "id": "bd21d370",
   "metadata": {},
   "outputs": [],
   "source": [
    "tokenizer_file_path = Path(\"qwen3\") / \"tokenizer-base.json\"\n",
    "tokenizer = Qwen3Tokenizer(tokenizer_file_path=tokenizer_file_path)"
   ]
  },
  {
   "cell_type": "code",
   "execution_count": 15,
   "id": "c22bf10e",
   "metadata": {},
   "outputs": [
    {
     "name": "stdout",
     "output_type": "stream",
     "text": [
      "[840, 20772, 3460, 4128, 4119, 13]\n"
     ]
    }
   ],
   "source": [
    "prompt = \"Explain large language models.\"\n",
    "input_token_ids_list = tokenizer.encode(prompt)\n",
    "\n",
    "print(input_token_ids_list)"
   ]
  },
  {
   "cell_type": "code",
   "execution_count": 16,
   "id": "ec0cc8d5",
   "metadata": {},
   "outputs": [
    {
     "name": "stdout",
     "output_type": "stream",
     "text": [
      "Explain large language models.\n"
     ]
    }
   ],
   "source": [
    "text = tokenizer.decode(input_token_ids_list)\n",
    "print(text)"
   ]
  },
  {
   "cell_type": "code",
   "execution_count": 17,
   "id": "b246ccef",
   "metadata": {},
   "outputs": [
    {
     "name": "stdout",
     "output_type": "stream",
     "text": [
      "[840] --> Ex\n",
      "[20772] --> plain\n",
      "[3460] -->  large\n",
      "[4128] -->  language\n",
      "[4119] -->  models\n",
      "[13] --> .\n"
     ]
    }
   ],
   "source": [
    "for i in input_token_ids_list:\n",
    "    print(f\"{[i]} --> {tokenizer.decode([i])}\")"
   ]
  },
  {
   "cell_type": "markdown",
   "id": "8c2f0ebd",
   "metadata": {},
   "source": [
    "Exercise 2.1: Encoding unknown words"
   ]
  },
  {
   "cell_type": "code",
   "execution_count": 18,
   "id": "1bea1a15",
   "metadata": {},
   "outputs": [
    {
     "name": "stdout",
     "output_type": "stream",
     "text": [
      "[68210] --> Cou\n",
      "[22249] --> cou\n",
      "[11] --> ,\n",
      "[9765] -->  tu\n",
      "[5208] -->  ve\n",
      "[2200] --> ux\n",
      "[45031] -->  voir\n",
      "[7491] -->  ma\n",
      "[22721] -->  bite\n",
      "[30] --> ?\n"
     ]
    }
   ],
   "source": [
    "french_token_ids_list = tokenizer.encode(prompt=\"Coucou, tu veux voir ma bite?\")\n",
    "\n",
    "for i in french_token_ids_list:\n",
    "    print(f\"{[i]} --> {tokenizer.decode([i])}\")"
   ]
  },
  {
   "cell_type": "markdown",
   "id": "1049c315",
   "metadata": {},
   "source": [
    "# 2.5 Loading pre-trained models"
   ]
  },
  {
   "cell_type": "code",
   "execution_count": 19,
   "id": "83ae3399",
   "metadata": {},
   "outputs": [
    {
     "name": "stdout",
     "output_type": "stream",
     "text": [
      "✓ qwen3/qwen3-0.6B-base.pth already up-to-date\n",
      "✓ qwen3/tokenizer-base.json already up-to-date\n"
     ]
    }
   ],
   "source": [
    "download_qwen3_small(kind=\"base\", tokenizer_only=False, out_dir=\"qwen3\")"
   ]
  },
  {
   "cell_type": "code",
   "execution_count": 20,
   "id": "363a83ff",
   "metadata": {},
   "outputs": [],
   "source": [
    "model_path = Path(\"qwen3\") / \"qwen3-0.6B-base.pth\"\n",
    "model = Qwen3Model(cfg=QWEN_CONFIG_06_B)"
   ]
  },
  {
   "cell_type": "code",
   "execution_count": 21,
   "id": "dec36865",
   "metadata": {},
   "outputs": [],
   "source": [
    "text = \"Hello, how are you today?\"\n",
    "\n",
    "ids = tokenizer.encode(text)\n",
    "input_ids = torch.tensor(ids, dtype=torch.long).unsqueeze(0)\n",
    "input_ids = input_ids.to(device)"
   ]
  },
  {
   "cell_type": "code",
   "execution_count": 22,
   "id": "fdcf539a",
   "metadata": {},
   "outputs": [
    {
     "data": {
      "text/plain": [
       "=============================================================================================================================\n",
       "Layer (type (var_name))                       Input Shape          Output Shape         Param #              Trainable\n",
       "=============================================================================================================================\n",
       "Qwen3Model (Qwen3Model)                       [1, 7]               [1, 7, 151936]       --                   True\n",
       "├─Embedding (tok_emb)                         [1, 7]               [1, 7, 1024]         155,582,464          True\n",
       "├─ModuleList (trf_blocks)                     --                   --                   --                   True\n",
       "│    └─TransformerBlock (0)                   [1, 7, 1024]         [1, 7, 1024]         --                   True\n",
       "│    │    └─RMSNorm (norm1)                   [1, 7, 1024]         [1, 7, 1024]         1,024                True\n",
       "│    │    └─GroupedQueryAttention (att)       [1, 7, 1024]         [1, 7, 1024]         6,291,712            True\n",
       "│    │    └─RMSNorm (norm2)                   [1, 7, 1024]         [1, 7, 1024]         1,024                True\n",
       "│    │    └─FeedForward (ff)                  [1, 7, 1024]         [1, 7, 1024]         9,437,184            True\n",
       "│    └─TransformerBlock (1)                   [1, 7, 1024]         [1, 7, 1024]         --                   True\n",
       "│    │    └─RMSNorm (norm1)                   [1, 7, 1024]         [1, 7, 1024]         1,024                True\n",
       "│    │    └─GroupedQueryAttention (att)       [1, 7, 1024]         [1, 7, 1024]         6,291,712            True\n",
       "│    │    └─RMSNorm (norm2)                   [1, 7, 1024]         [1, 7, 1024]         1,024                True\n",
       "│    │    └─FeedForward (ff)                  [1, 7, 1024]         [1, 7, 1024]         9,437,184            True\n",
       "│    └─TransformerBlock (2)                   [1, 7, 1024]         [1, 7, 1024]         --                   True\n",
       "│    │    └─RMSNorm (norm1)                   [1, 7, 1024]         [1, 7, 1024]         1,024                True\n",
       "│    │    └─GroupedQueryAttention (att)       [1, 7, 1024]         [1, 7, 1024]         6,291,712            True\n",
       "│    │    └─RMSNorm (norm2)                   [1, 7, 1024]         [1, 7, 1024]         1,024                True\n",
       "│    │    └─FeedForward (ff)                  [1, 7, 1024]         [1, 7, 1024]         9,437,184            True\n",
       "│    └─TransformerBlock (3)                   [1, 7, 1024]         [1, 7, 1024]         --                   True\n",
       "│    │    └─RMSNorm (norm1)                   [1, 7, 1024]         [1, 7, 1024]         1,024                True\n",
       "│    │    └─GroupedQueryAttention (att)       [1, 7, 1024]         [1, 7, 1024]         6,291,712            True\n",
       "│    │    └─RMSNorm (norm2)                   [1, 7, 1024]         [1, 7, 1024]         1,024                True\n",
       "│    │    └─FeedForward (ff)                  [1, 7, 1024]         [1, 7, 1024]         9,437,184            True\n",
       "│    └─TransformerBlock (4)                   [1, 7, 1024]         [1, 7, 1024]         --                   True\n",
       "│    │    └─RMSNorm (norm1)                   [1, 7, 1024]         [1, 7, 1024]         1,024                True\n",
       "│    │    └─GroupedQueryAttention (att)       [1, 7, 1024]         [1, 7, 1024]         6,291,712            True\n",
       "│    │    └─RMSNorm (norm2)                   [1, 7, 1024]         [1, 7, 1024]         1,024                True\n",
       "│    │    └─FeedForward (ff)                  [1, 7, 1024]         [1, 7, 1024]         9,437,184            True\n",
       "│    └─TransformerBlock (5)                   [1, 7, 1024]         [1, 7, 1024]         --                   True\n",
       "│    │    └─RMSNorm (norm1)                   [1, 7, 1024]         [1, 7, 1024]         1,024                True\n",
       "│    │    └─GroupedQueryAttention (att)       [1, 7, 1024]         [1, 7, 1024]         6,291,712            True\n",
       "│    │    └─RMSNorm (norm2)                   [1, 7, 1024]         [1, 7, 1024]         1,024                True\n",
       "│    │    └─FeedForward (ff)                  [1, 7, 1024]         [1, 7, 1024]         9,437,184            True\n",
       "│    └─TransformerBlock (6)                   [1, 7, 1024]         [1, 7, 1024]         --                   True\n",
       "│    │    └─RMSNorm (norm1)                   [1, 7, 1024]         [1, 7, 1024]         1,024                True\n",
       "│    │    └─GroupedQueryAttention (att)       [1, 7, 1024]         [1, 7, 1024]         6,291,712            True\n",
       "│    │    └─RMSNorm (norm2)                   [1, 7, 1024]         [1, 7, 1024]         1,024                True\n",
       "│    │    └─FeedForward (ff)                  [1, 7, 1024]         [1, 7, 1024]         9,437,184            True\n",
       "│    └─TransformerBlock (7)                   [1, 7, 1024]         [1, 7, 1024]         --                   True\n",
       "│    │    └─RMSNorm (norm1)                   [1, 7, 1024]         [1, 7, 1024]         1,024                True\n",
       "│    │    └─GroupedQueryAttention (att)       [1, 7, 1024]         [1, 7, 1024]         6,291,712            True\n",
       "│    │    └─RMSNorm (norm2)                   [1, 7, 1024]         [1, 7, 1024]         1,024                True\n",
       "│    │    └─FeedForward (ff)                  [1, 7, 1024]         [1, 7, 1024]         9,437,184            True\n",
       "│    └─TransformerBlock (8)                   [1, 7, 1024]         [1, 7, 1024]         --                   True\n",
       "│    │    └─RMSNorm (norm1)                   [1, 7, 1024]         [1, 7, 1024]         1,024                True\n",
       "│    │    └─GroupedQueryAttention (att)       [1, 7, 1024]         [1, 7, 1024]         6,291,712            True\n",
       "│    │    └─RMSNorm (norm2)                   [1, 7, 1024]         [1, 7, 1024]         1,024                True\n",
       "│    │    └─FeedForward (ff)                  [1, 7, 1024]         [1, 7, 1024]         9,437,184            True\n",
       "│    └─TransformerBlock (9)                   [1, 7, 1024]         [1, 7, 1024]         --                   True\n",
       "│    │    └─RMSNorm (norm1)                   [1, 7, 1024]         [1, 7, 1024]         1,024                True\n",
       "│    │    └─GroupedQueryAttention (att)       [1, 7, 1024]         [1, 7, 1024]         6,291,712            True\n",
       "│    │    └─RMSNorm (norm2)                   [1, 7, 1024]         [1, 7, 1024]         1,024                True\n",
       "│    │    └─FeedForward (ff)                  [1, 7, 1024]         [1, 7, 1024]         9,437,184            True\n",
       "│    └─TransformerBlock (10)                  [1, 7, 1024]         [1, 7, 1024]         --                   True\n",
       "│    │    └─RMSNorm (norm1)                   [1, 7, 1024]         [1, 7, 1024]         1,024                True\n",
       "│    │    └─GroupedQueryAttention (att)       [1, 7, 1024]         [1, 7, 1024]         6,291,712            True\n",
       "│    │    └─RMSNorm (norm2)                   [1, 7, 1024]         [1, 7, 1024]         1,024                True\n",
       "│    │    └─FeedForward (ff)                  [1, 7, 1024]         [1, 7, 1024]         9,437,184            True\n",
       "│    └─TransformerBlock (11)                  [1, 7, 1024]         [1, 7, 1024]         --                   True\n",
       "│    │    └─RMSNorm (norm1)                   [1, 7, 1024]         [1, 7, 1024]         1,024                True\n",
       "│    │    └─GroupedQueryAttention (att)       [1, 7, 1024]         [1, 7, 1024]         6,291,712            True\n",
       "│    │    └─RMSNorm (norm2)                   [1, 7, 1024]         [1, 7, 1024]         1,024                True\n",
       "│    │    └─FeedForward (ff)                  [1, 7, 1024]         [1, 7, 1024]         9,437,184            True\n",
       "│    └─TransformerBlock (12)                  [1, 7, 1024]         [1, 7, 1024]         --                   True\n",
       "│    │    └─RMSNorm (norm1)                   [1, 7, 1024]         [1, 7, 1024]         1,024                True\n",
       "│    │    └─GroupedQueryAttention (att)       [1, 7, 1024]         [1, 7, 1024]         6,291,712            True\n",
       "│    │    └─RMSNorm (norm2)                   [1, 7, 1024]         [1, 7, 1024]         1,024                True\n",
       "│    │    └─FeedForward (ff)                  [1, 7, 1024]         [1, 7, 1024]         9,437,184            True\n",
       "│    └─TransformerBlock (13)                  [1, 7, 1024]         [1, 7, 1024]         --                   True\n",
       "│    │    └─RMSNorm (norm1)                   [1, 7, 1024]         [1, 7, 1024]         1,024                True\n",
       "│    │    └─GroupedQueryAttention (att)       [1, 7, 1024]         [1, 7, 1024]         6,291,712            True\n",
       "│    │    └─RMSNorm (norm2)                   [1, 7, 1024]         [1, 7, 1024]         1,024                True\n",
       "│    │    └─FeedForward (ff)                  [1, 7, 1024]         [1, 7, 1024]         9,437,184            True\n",
       "│    └─TransformerBlock (14)                  [1, 7, 1024]         [1, 7, 1024]         --                   True\n",
       "│    │    └─RMSNorm (norm1)                   [1, 7, 1024]         [1, 7, 1024]         1,024                True\n",
       "│    │    └─GroupedQueryAttention (att)       [1, 7, 1024]         [1, 7, 1024]         6,291,712            True\n",
       "│    │    └─RMSNorm (norm2)                   [1, 7, 1024]         [1, 7, 1024]         1,024                True\n",
       "│    │    └─FeedForward (ff)                  [1, 7, 1024]         [1, 7, 1024]         9,437,184            True\n",
       "│    └─TransformerBlock (15)                  [1, 7, 1024]         [1, 7, 1024]         --                   True\n",
       "│    │    └─RMSNorm (norm1)                   [1, 7, 1024]         [1, 7, 1024]         1,024                True\n",
       "│    │    └─GroupedQueryAttention (att)       [1, 7, 1024]         [1, 7, 1024]         6,291,712            True\n",
       "│    │    └─RMSNorm (norm2)                   [1, 7, 1024]         [1, 7, 1024]         1,024                True\n",
       "│    │    └─FeedForward (ff)                  [1, 7, 1024]         [1, 7, 1024]         9,437,184            True\n",
       "│    └─TransformerBlock (16)                  [1, 7, 1024]         [1, 7, 1024]         --                   True\n",
       "│    │    └─RMSNorm (norm1)                   [1, 7, 1024]         [1, 7, 1024]         1,024                True\n",
       "│    │    └─GroupedQueryAttention (att)       [1, 7, 1024]         [1, 7, 1024]         6,291,712            True\n",
       "│    │    └─RMSNorm (norm2)                   [1, 7, 1024]         [1, 7, 1024]         1,024                True\n",
       "│    │    └─FeedForward (ff)                  [1, 7, 1024]         [1, 7, 1024]         9,437,184            True\n",
       "│    └─TransformerBlock (17)                  [1, 7, 1024]         [1, 7, 1024]         --                   True\n",
       "│    │    └─RMSNorm (norm1)                   [1, 7, 1024]         [1, 7, 1024]         1,024                True\n",
       "│    │    └─GroupedQueryAttention (att)       [1, 7, 1024]         [1, 7, 1024]         6,291,712            True\n",
       "│    │    └─RMSNorm (norm2)                   [1, 7, 1024]         [1, 7, 1024]         1,024                True\n",
       "│    │    └─FeedForward (ff)                  [1, 7, 1024]         [1, 7, 1024]         9,437,184            True\n",
       "│    └─TransformerBlock (18)                  [1, 7, 1024]         [1, 7, 1024]         --                   True\n",
       "│    │    └─RMSNorm (norm1)                   [1, 7, 1024]         [1, 7, 1024]         1,024                True\n",
       "│    │    └─GroupedQueryAttention (att)       [1, 7, 1024]         [1, 7, 1024]         6,291,712            True\n",
       "│    │    └─RMSNorm (norm2)                   [1, 7, 1024]         [1, 7, 1024]         1,024                True\n",
       "│    │    └─FeedForward (ff)                  [1, 7, 1024]         [1, 7, 1024]         9,437,184            True\n",
       "│    └─TransformerBlock (19)                  [1, 7, 1024]         [1, 7, 1024]         --                   True\n",
       "│    │    └─RMSNorm (norm1)                   [1, 7, 1024]         [1, 7, 1024]         1,024                True\n",
       "│    │    └─GroupedQueryAttention (att)       [1, 7, 1024]         [1, 7, 1024]         6,291,712            True\n",
       "│    │    └─RMSNorm (norm2)                   [1, 7, 1024]         [1, 7, 1024]         1,024                True\n",
       "│    │    └─FeedForward (ff)                  [1, 7, 1024]         [1, 7, 1024]         9,437,184            True\n",
       "│    └─TransformerBlock (20)                  [1, 7, 1024]         [1, 7, 1024]         --                   True\n",
       "│    │    └─RMSNorm (norm1)                   [1, 7, 1024]         [1, 7, 1024]         1,024                True\n",
       "│    │    └─GroupedQueryAttention (att)       [1, 7, 1024]         [1, 7, 1024]         6,291,712            True\n",
       "│    │    └─RMSNorm (norm2)                   [1, 7, 1024]         [1, 7, 1024]         1,024                True\n",
       "│    │    └─FeedForward (ff)                  [1, 7, 1024]         [1, 7, 1024]         9,437,184            True\n",
       "│    └─TransformerBlock (21)                  [1, 7, 1024]         [1, 7, 1024]         --                   True\n",
       "│    │    └─RMSNorm (norm1)                   [1, 7, 1024]         [1, 7, 1024]         1,024                True\n",
       "│    │    └─GroupedQueryAttention (att)       [1, 7, 1024]         [1, 7, 1024]         6,291,712            True\n",
       "│    │    └─RMSNorm (norm2)                   [1, 7, 1024]         [1, 7, 1024]         1,024                True\n",
       "│    │    └─FeedForward (ff)                  [1, 7, 1024]         [1, 7, 1024]         9,437,184            True\n",
       "│    └─TransformerBlock (22)                  [1, 7, 1024]         [1, 7, 1024]         --                   True\n",
       "│    │    └─RMSNorm (norm1)                   [1, 7, 1024]         [1, 7, 1024]         1,024                True\n",
       "│    │    └─GroupedQueryAttention (att)       [1, 7, 1024]         [1, 7, 1024]         6,291,712            True\n",
       "│    │    └─RMSNorm (norm2)                   [1, 7, 1024]         [1, 7, 1024]         1,024                True\n",
       "│    │    └─FeedForward (ff)                  [1, 7, 1024]         [1, 7, 1024]         9,437,184            True\n",
       "│    └─TransformerBlock (23)                  [1, 7, 1024]         [1, 7, 1024]         --                   True\n",
       "│    │    └─RMSNorm (norm1)                   [1, 7, 1024]         [1, 7, 1024]         1,024                True\n",
       "│    │    └─GroupedQueryAttention (att)       [1, 7, 1024]         [1, 7, 1024]         6,291,712            True\n",
       "│    │    └─RMSNorm (norm2)                   [1, 7, 1024]         [1, 7, 1024]         1,024                True\n",
       "│    │    └─FeedForward (ff)                  [1, 7, 1024]         [1, 7, 1024]         9,437,184            True\n",
       "│    └─TransformerBlock (24)                  [1, 7, 1024]         [1, 7, 1024]         --                   True\n",
       "│    │    └─RMSNorm (norm1)                   [1, 7, 1024]         [1, 7, 1024]         1,024                True\n",
       "│    │    └─GroupedQueryAttention (att)       [1, 7, 1024]         [1, 7, 1024]         6,291,712            True\n",
       "│    │    └─RMSNorm (norm2)                   [1, 7, 1024]         [1, 7, 1024]         1,024                True\n",
       "│    │    └─FeedForward (ff)                  [1, 7, 1024]         [1, 7, 1024]         9,437,184            True\n",
       "│    └─TransformerBlock (25)                  [1, 7, 1024]         [1, 7, 1024]         --                   True\n",
       "│    │    └─RMSNorm (norm1)                   [1, 7, 1024]         [1, 7, 1024]         1,024                True\n",
       "│    │    └─GroupedQueryAttention (att)       [1, 7, 1024]         [1, 7, 1024]         6,291,712            True\n",
       "│    │    └─RMSNorm (norm2)                   [1, 7, 1024]         [1, 7, 1024]         1,024                True\n",
       "│    │    └─FeedForward (ff)                  [1, 7, 1024]         [1, 7, 1024]         9,437,184            True\n",
       "│    └─TransformerBlock (26)                  [1, 7, 1024]         [1, 7, 1024]         --                   True\n",
       "│    │    └─RMSNorm (norm1)                   [1, 7, 1024]         [1, 7, 1024]         1,024                True\n",
       "│    │    └─GroupedQueryAttention (att)       [1, 7, 1024]         [1, 7, 1024]         6,291,712            True\n",
       "│    │    └─RMSNorm (norm2)                   [1, 7, 1024]         [1, 7, 1024]         1,024                True\n",
       "│    │    └─FeedForward (ff)                  [1, 7, 1024]         [1, 7, 1024]         9,437,184            True\n",
       "│    └─TransformerBlock (27)                  [1, 7, 1024]         [1, 7, 1024]         --                   True\n",
       "│    │    └─RMSNorm (norm1)                   [1, 7, 1024]         [1, 7, 1024]         1,024                True\n",
       "│    │    └─GroupedQueryAttention (att)       [1, 7, 1024]         [1, 7, 1024]         6,291,712            True\n",
       "│    │    └─RMSNorm (norm2)                   [1, 7, 1024]         [1, 7, 1024]         1,024                True\n",
       "│    │    └─FeedForward (ff)                  [1, 7, 1024]         [1, 7, 1024]         9,437,184            True\n",
       "├─RMSNorm (final_norm)                        [1, 7, 1024]         [1, 7, 1024]         1,024                True\n",
       "├─Linear (out_head)                           [1, 7, 1024]         [1, 7, 151936]       155,582,464          True\n",
       "=============================================================================================================================\n",
       "Total params: 751,632,384\n",
       "Trainable params: 751,632,384\n",
       "Non-trainable params: 0\n",
       "Total mult-adds (Units.MEGABYTES): 751.57\n",
       "=============================================================================================================================\n",
       "Input size (MB): 0.00\n",
       "Forward/backward pass size (MB): 17.96\n",
       "Params size (MB): 1503.40\n",
       "Estimated Total Size (MB): 1521.36\n",
       "============================================================================================================================="
      ]
     },
     "execution_count": 22,
     "metadata": {},
     "output_type": "execute_result"
    }
   ],
   "source": [
    "model.load_state_dict(torch.load(model_path))\n",
    "model.to(device)\n",
    "\n",
    "torchinfo.summary(\n",
    "    model=model,\n",
    "    input_data=input_ids,\n",
    "    verbose=0,\n",
    "    col_names=[\"input_size\", \"output_size\", \"num_params\", \"trainable\"],\n",
    "    col_width=20,\n",
    "    row_settings=[\"var_names\"]\n",
    ")"
   ]
  },
  {
   "cell_type": "markdown",
   "id": "e56a795b",
   "metadata": {},
   "source": [
    "# 2.6 Understanding the sequential LLM text generation process"
   ]
  },
  {
   "cell_type": "code",
   "execution_count": null,
   "id": "e80f2678",
   "metadata": {},
   "outputs": [],
   "source": []
  }
 ],
 "metadata": {
  "kernelspec": {
   "display_name": "llm",
   "language": "python",
   "name": "python3"
  },
  "language_info": {
   "codemirror_mode": {
    "name": "ipython",
    "version": 3
   },
   "file_extension": ".py",
   "mimetype": "text/x-python",
   "name": "python",
   "nbconvert_exporter": "python",
   "pygments_lexer": "ipython3",
   "version": "3.14.0"
  }
 },
 "nbformat": 4,
 "nbformat_minor": 5
}
